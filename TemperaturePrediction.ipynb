{
  "cells": [
    {
      "cell_type": "code",
      "execution_count": 180,
      "metadata": {
        "id": "z5mw6NzFyOIv"
      },
      "outputs": [],
      "source": [
        "import numpy as np\n",
        "import pandas as pd\n",
        "import h5py\n",
        "import matplotlib.pyplot as plt\n",
        "%matplotlib inline"
      ]
    },
    {
      "cell_type": "markdown",
      "metadata": {
        "id": "KyIjfmDZynsl"
      },
      "source": [
        "Activation Functions"
      ]
    },
    {
      "cell_type": "code",
      "execution_count": 181,
      "metadata": {
        "id": "XNuyV8w168az"
      },
      "outputs": [],
      "source": [
        "def sigmoid(x):\n",
        "    return (1.0 / (1.0 + np.exp(-x)))"
      ]
    },
    {
      "cell_type": "code",
      "execution_count": 182,
      "metadata": {
        "id": "VRGJxPNc69Rm"
      },
      "outputs": [],
      "source": [
        "def tanh(x):\n",
        "    return ((np.exp(x) - np.exp(-x)) / (np.exp(x) + np.exp(-x)))"
      ]
    },
    {
      "cell_type": "code",
      "execution_count": 183,
      "metadata": {
        "id": "tg6-JHALyqr6"
      },
      "outputs": [],
      "source": [
        "def ReLU(x):\n",
        "    return np.maximum(x,0)"
      ]
    },
    {
      "cell_type": "code",
      "execution_count": 184,
      "metadata": {
        "id": "7rKo5q0I7Dg4"
      },
      "outputs": [],
      "source": [
        "def LReLU(x, a = 0.1):\n",
        "    return np.maximum(np.multiply(a, x), x)"
      ]
    },
    {
      "cell_type": "markdown",
      "metadata": {
        "id": "BckNuxHAytVl"
      },
      "source": [
        "Derivatives of Activation Functions"
      ]
    },
    {
      "cell_type": "code",
      "execution_count": 185,
      "metadata": {
        "id": "OIe3SRfxyzSp"
      },
      "outputs": [],
      "source": [
        "def d_ReLU(x):\n",
        "    return np.multiply((x > 0), np.ones(np.shape(x)))"
      ]
    },
    {
      "cell_type": "code",
      "execution_count": 186,
      "metadata": {
        "id": "zzrX4tJ385EE"
      },
      "outputs": [],
      "source": [
        "def d_sigmoid(x):\n",
        "    y = np.multiply(x, (1.0 - x))\n",
        "    return y"
      ]
    },
    {
      "cell_type": "code",
      "execution_count": 187,
      "metadata": {
        "id": "a-PwJ-ol88QP"
      },
      "outputs": [],
      "source": [
        "def d_tanh(x):\n",
        "    return(1 - np.multiply(x, x))"
      ]
    },
    {
      "cell_type": "code",
      "execution_count": 188,
      "metadata": {
        "id": "w9rtr69m8_ZV"
      },
      "outputs": [],
      "source": [
        "def d_LReLU(x, a = 0.1):\n",
        "    return (((x > 0) * np.ones(np.shape(x))) + ((x < 0) * np.full(np.shape(x), a)))"
      ]
    },
    {
      "cell_type": "markdown",
      "metadata": {
        "id": "W42MPhM9y32d"
      },
      "source": [
        "Error Functions"
      ]
    },
    {
      "cell_type": "code",
      "execution_count": 189,
      "metadata": {
        "id": "2Od9mGXby8jv"
      },
      "outputs": [],
      "source": [
        "def MSE(y_hat, y):\n",
        "    return np.mean((((y_hat - y) ** 2) / 2.0), axis = 1)"
      ]
    },
    {
      "cell_type": "code",
      "execution_count": 190,
      "metadata": {
        "id": "V7UWrKv_80SM"
      },
      "outputs": [],
      "source": [
        "# mean absolute percentage error\n",
        "def MAPE(y_hat, y):\n",
        "    return np.mean(np.absolute(np.divide((y_hat - y), y_hat)), axis = 1)"
      ]
    },
    {
      "cell_type": "markdown",
      "metadata": {
        "id": "zlJrrLM7y_Rx"
      },
      "source": [
        "Normalization Function"
      ]
    },
    {
      "cell_type": "code",
      "execution_count": 191,
      "metadata": {
        "id": "tCOrVQARzCYC"
      },
      "outputs": [],
      "source": [
        "def normalisation(x):\n",
        "  mean = np.mean(x, axis=0);\n",
        "  sigma = np.std(x, axis=0);\n",
        "  return (x-mean)/sigma"
      ]
    },
    {
      "cell_type": "markdown",
      "metadata": {
        "id": "IvZe2rV_zkDl"
      },
      "source": [
        "Initializing the parameters"
      ]
    },
    {
      "cell_type": "code",
      "execution_count": 192,
      "metadata": {
        "id": "tdeAavxmzsHw"
      },
      "outputs": [],
      "source": [
        "def initialize_parameters(Features, HiddenLayerNodes, noOfLayers):\n",
        "  params = {}\n",
        "\n",
        "  #Input Layer\n",
        "  W1 = np.random.randn(HiddenLayerNodes, Features)\n",
        "  b1 = np.zeros((HiddenLayerNodes, 1))\n",
        "  params.update({'W1': W1})\n",
        "  params.update({'b1': b1})\n",
        "\n",
        "  for layer in range(noOfLayers-1):\n",
        "    W_layer = np.random.randn(HiddenLayerNodes, HiddenLayerNodes)\n",
        "    b_layer = np.zeros((HiddenLayerNodes, 1))\n",
        "\n",
        "    params.update({'W'+str(layer+2): W_layer})\n",
        "    params.update({'b'+str(layer+2): b_layer})\n",
        "\n",
        "\n",
        "  #Output Layer\n",
        "  W_out = np.random.randn(1, HiddenLayerNodes)\n",
        "  b_out = np.zeros((1, 1))\n",
        "  params.update({'W'+str(noOfLayers+1): W_out})\n",
        "  params.update({'b'+str(noOfLayers+1): b_out})\n",
        "\n",
        "\n",
        "  return params\n"
      ]
    },
    {
      "cell_type": "markdown",
      "metadata": {
        "id": "GOZ5P0i6zet7"
      },
      "source": [
        "Forward Propogation"
      ]
    },
    {
      "cell_type": "code",
      "execution_count": 193,
      "metadata": {
        "id": "ETZItj3s3Qnv"
      },
      "outputs": [],
      "source": [
        "def forward_propagation(Input, y_expected, noOfLayers, params, Activations, Error='MSE'):\n",
        "  '''\n",
        "  Input : Features * TrainingExamples\n",
        "  W1 : HiddenLayerNodes * Features\n",
        "  b1 : HiddenLayerNodes * 1\n",
        "  A1 : HiddenLayerNodes * TrainingExamples\n",
        "\n",
        "  Wi : HiddenLayerNodes * HiddenLayerNodes    [OutputLayerNodes = 1]\n",
        "  bi : HiddenLayerNodes * 1\n",
        "  Ai : HiddenLayerNodes * TrainingExamples\n",
        "\n",
        "  W_L+1 : 1 * HiddenLayerNodes\n",
        "  b_L+1 : 1 * 1\n",
        "  A_L+1 : 1 * TrainingExamples\n",
        "\n",
        "  '''\n",
        "\n",
        "  Features, TrainingExamples = Input.shape\n",
        "  HiddenLayerNodes = params['W1'].shape[0]\n",
        "  cache = {}\n",
        "  cache.update({'A0':Input})\n",
        "\n",
        "  for layer in range(1, noOfLayers+1):\n",
        "      W_i = params['W'+str(layer)]\n",
        "      b_i = params['b'+str(layer)]\n",
        "\n",
        "      A_prev = cache['A'+str(layer-1)]\n",
        "      Z_i = W_i @ A_prev + b_i\n",
        "      A_i = np.zeros((HiddenLayerNodes, TrainingExamples))\n",
        "\n",
        "      Activation_i = Activations[layer-1]\n",
        "      if Activation_i == 'sigmoid':\n",
        "        A_i = sigmoid(Z_i)\n",
        "      elif Activation_i == 'tanh':\n",
        "        A_i = tanh(Z_i)\n",
        "      elif Activation_i == 'ReLU':\n",
        "        A_i = ReLU(Z_i)\n",
        "      elif Activation_i == 'LReLU':\n",
        "        A_i = LReLU(Z_i)\n",
        "      else:\n",
        "        print(\"Invalid Activation for Layer \", layer)\n",
        "        return\n",
        "\n",
        "      cache.update({'A'+str(layer) : A_i})\n",
        "  \n",
        "\n",
        "  #output layer\n",
        "  W_out = params['W'+str(noOfLayers+1)]\n",
        "  b_out = params['b'+str(noOfLayers+1)]\n",
        "  A_prev = cache['A'+str(noOfLayers)]\n",
        "  Z_out =  W_out @ A_prev + b_out\n",
        "  Activation_out = Activations[noOfLayers]\n",
        "\n",
        "  if Activation_out == 'sigmoid':\n",
        "    A_out = sigmoid(Z_out)\n",
        "  elif Activation_out == 'tanh':\n",
        "    A_out = tanh(Z_out)\n",
        "  elif Activation_out == 'ReLU':\n",
        "    A_out = ReLU(Z_out)\n",
        "  elif Activation_out == 'LReLU':\n",
        "    A_out = LReLU(Z_out)\n",
        "  else:\n",
        "    print(\"Invalid Activation for Layer \", noOfLayers)\n",
        "    return\n",
        "\n",
        "  cache.update({'A'+str(noOfLayers+1) : A_out})\n",
        "\n",
        "\n",
        "  error = 0\n",
        "\n",
        "  if Error == \"MSE\":\n",
        "     error = MSE(A_out,y_expected)\n",
        "  elif Error == \"MAPE\":\n",
        "     error = MAPE(A_out, y_expected)\n",
        "  else:\n",
        "    print(\"Invalid Error Function\")\n",
        "    return\n",
        "\n",
        "  return cache, error\n"
      ]
    },
    {
      "cell_type": "markdown",
      "metadata": {
        "id": "5NCC0pWTQXBz"
      },
      "source": [
        "Backward Propogation"
      ]
    },
    {
      "cell_type": "code",
      "execution_count": 194,
      "metadata": {
        "id": "sEKtwMj1QZp0"
      },
      "outputs": [],
      "source": [
        "def backward_propagation(params, cache, y_expected, Activations, noOfLayers, learning_rate = 0.1, Error = 'MSE'):\n",
        "\n",
        "  A_out = cache['A'+str(noOfLayers+1)]\n",
        "  d_A_out = np.zeros(np.shape(A_out))\n",
        "  d_Z_out = np.zeros(np.shape(A_out)) # 1 * TrainingExamples\n",
        "  d_W_out = cache['A'+str(noOfLayers)] # HiddenLayerNodes * TrainingExamples\n",
        "\n",
        "  if Error == 'MSE':\n",
        "    d_A_out = (y_expected - A_out)/np.shape(A_out)[1]\n",
        "  elif Error == 'MAPE':\n",
        "    d_A_out = np.divide(np.sign((y_expected - A_out)), np.absolute(A_out))\n",
        "  else :\n",
        "    print(\"Invalid Error Function\")\n",
        "    return\n",
        "    \n",
        "  Activation_out = Activations[noOfLayers]\n",
        "\n",
        "  if Activation_out == 'sigmoid':\n",
        "    d_Z_out = d_sigmoid(A_out)\n",
        "  elif Activation_out == 'tanh':\n",
        "    d_Z_out = d_tanh(A_out)\n",
        "  elif Activation_out == 'ReLU':\n",
        "    d_Z_out = d_ReLU(A_out)\n",
        "  elif Activation_out == 'LReLU':\n",
        "    d_Z_out = d_LReLU(A_out)\n",
        "\n",
        "  else:\n",
        "    print(\"Invalid Activation for Layer \", noOfLayers)\n",
        "    return\n",
        "\n",
        "\n",
        "  delta_W_out = np.transpose(np.multiply(learning_rate , d_W_out @ np.transpose(np.multiply(d_A_out, d_Z_out))))\n",
        "  delta_b_out = np.mean(np.multiply(learning_rate , np.transpose(np.multiply(d_A_out, d_Z_out))), axis = 0).reshape(1,1)\n",
        "\n",
        "  reverse_cache = {}\n",
        "\n",
        "  reverse_cache.update({'delta_W'+str(noOfLayers+1): delta_W_out})\n",
        "  reverse_cache.update({'delta_b'+str(noOfLayers+1): delta_b_out})\n",
        "\n",
        "\n",
        "  # used for storing for backprop through layers\n",
        "  back = np.multiply(d_A_out, d_Z_out)  # 1 * Trainingexamples\n",
        "\n",
        "  for layer in range(noOfLayers, 0, -1):\n",
        "    d_A_i = params['W'+str(layer+1)] # 1 * HiddenLayerNodes || HiddenLayerNodes * HiddenLayerNodes \n",
        "    A_i = cache['A'+str(layer)]\n",
        "    d_Z_i = np.zeros(np.shape(A_i))\n",
        "    \n",
        "    if Activations[layer-1] == 'sigmoid':\n",
        "      d_Z_i = d_sigmoid(A_i)\n",
        "    elif Activations[layer-1] == 'tanh':\n",
        "      d_Z_i = d_tanh(A_i)\n",
        "    elif Activations[layer-1] == 'ReLU':\n",
        "      d_Z_i = d_ReLU(A_i)\n",
        "    elif Activations[layer-1] == 'LReLU':\n",
        "      d_Z_i = d_LReLU(A_i) \n",
        "\n",
        "    #back1 - 1 * Training \n",
        "    #d_A_i1 - 1* Hidden\n",
        "    #d_Z_i1 - Hidden * Training\n",
        "    #\n",
        "    #d_A_prev1 - Hidden * Training\n",
        "\n",
        "\n",
        "    back_temp = np.multiply((np.transpose(d_A_i) @ back),d_Z_i) # HiddenLayerNodes * TrainingExamples\n",
        "    delta_W_i = np.multiply(learning_rate, back_temp) @ np.transpose(cache['A'+str(layer-1)]) # HiddenLayerNodes * HiddenLayerNodes\n",
        "    delta_b_i = np.mean(np.multiply(learning_rate, back_temp), axis = 1).reshape(A_i.shape[0],1) # HiddenLayerNodes * 1\n",
        "\n",
        "    reverse_cache.update({'delta_W'+str(layer): delta_W_i})\n",
        "    reverse_cache.update({'delta_b'+str(layer): delta_b_i})\n",
        "\n",
        "    back = back_temp\n",
        "\n",
        "\n",
        "  return reverse_cache"
      ]
    },
    {
      "cell_type": "markdown",
      "metadata": {
        "id": "_SCDqG2_j_2p"
      },
      "source": [
        "Separation and observation of data set"
      ]
    },
    {
      "cell_type": "code",
      "execution_count": 195,
      "metadata": {
        "colab": {
          "base_uri": "https://localhost:8080/"
        },
        "id": "jKHxWgL_yFrX",
        "outputId": "253c8d3e-ffd4-4229-a55a-22e4e57bca17"
      },
      "outputs": [
        {
          "name": "stdout",
          "output_type": "stream",
          "text": [
            "X_train:(6, 67517)\n",
            "Y_train:(1, 67517)\n",
            "X_val:(6, 19291)\n",
            "Y_val:(1, 19291)\n",
            "X_test:(6, 9645)\n",
            "Y_test:(1, 9645)\n"
          ]
        }
      ],
      "source": [
        "df = pd.read_csv('weatherHistory.csv')\n",
        "df = df.drop(['Formatted Date', 'Precip Type', 'Summary', 'Daily Summary', 'Loud Cover'], axis=1)\n",
        "#df.head()\n",
        "\n",
        "#split into training and test\n",
        "test=df.sample(frac=0.1,random_state=25)\n",
        "\n",
        "#random state is a seed value for same split at each run\n",
        "train_val=df.drop(test.index)\n",
        "validation = train_val.sample(frac=2/9, random_state=25)\n",
        "train = train_val.drop(validation.index)\n",
        "\n",
        "# print(train.head())\n",
        "# print(test.head())\n",
        "# print(val.head())\n",
        "\n",
        "(X_train, Y_train) = train.values[:, 1:], np.reshape(train.values[:, 0], (-1, 1))\n",
        "X_train = np.transpose(X_train)\n",
        "Y_train = np.transpose(Y_train)\n",
        "\n",
        "\n",
        "print('X_train:' + str(X_train.shape))\n",
        "print('Y_train:' + str(Y_train.shape))\n",
        "\n",
        "\n",
        "(X_val, Y_val) = validation.values[:, 1:], np.reshape(validation.values[:, 0], (-1, 1))\n",
        "X_val = np.transpose(X_val)\n",
        "Y_val = np.transpose(Y_val)\n",
        "\n",
        "\n",
        "print('X_val:' + str(X_val.shape))\n",
        "print('Y_val:' + str(Y_val.shape))\n",
        "\n",
        "(X_test, Y_test) = test.values[:, 1:], np.reshape(test.values[:, 0], (-1, 1))\n",
        "X_test = np.transpose(X_test)\n",
        "Y_test = np.transpose(Y_test)\n",
        "\n",
        "# #print(Y_test)\n",
        "\n",
        "# #normalisation\n",
        "for column in range(X_train.shape[0]):\n",
        "  X_train[column] = normalisation(X_train[column])\n",
        "\n",
        "for column in range(X_val.shape[0]):\n",
        "  X_val[column] = normalisation(X_val[column])\n",
        "\n",
        "for column in range(X_test.shape[0]):\n",
        "  X_test[column] = normalisation(X_test[column])\n",
        "print('X_test:' + str(X_test.shape))\n",
        "print('Y_test:' + str(Y_test.shape))"
      ]
    },
    {
      "cell_type": "markdown",
      "metadata": {
        "id": "OGi9rqbvzpZw"
      },
      "source": [
        "Updating the parameters"
      ]
    },
    {
      "cell_type": "code",
      "execution_count": 196,
      "metadata": {
        "id": "Ec4eThQfzsgI"
      },
      "outputs": [],
      "source": [
        "def update_parameters(params, reverse_cache, noOfLayers):\n",
        "  for layer in range(1, noOfLayers+1):\n",
        "    W_i = params['W'+str(layer)]\n",
        "    b_i = params['b'+str(layer)]\n",
        "\n",
        "    delta_W_i = reverse_cache['delta_W'+str(layer)]\n",
        "    delta_b_i = reverse_cache['delta_b'+str(layer)]\n",
        "\n",
        "    #learning_rate taken into account in the backward propagation\n",
        "    W_i = W_i + delta_W_i\n",
        "    b_i = b_i + delta_b_i\n",
        "\n",
        "    params.update({'W'+str(layer): W_i})\n",
        "    params.update({'b'+str(layer): b_i})\n",
        "\n",
        "  return params\n"
      ]
    },
    {
      "cell_type": "markdown",
      "metadata": {
        "id": "BNEXoSxU0njc"
      },
      "source": [
        "Training the Network"
      ]
    },
    {
      "cell_type": "code",
      "execution_count": 197,
      "metadata": {
        "id": "j2VZkqDa0qYj"
      },
      "outputs": [],
      "source": [
        "def training(Input, y_expected, Input_validation, y_expected_validation, Activations, noOfLayers = 1, learning_rate = 0.01, Error = 'MSE', HiddenLayerNodes = 20, epochs = 2000):\n",
        "    Features, TrainingExamples = Input.shape\n",
        "    params = initialize_parameters(Features, HiddenLayerNodes, noOfLayers)\n",
        "    errors = []\n",
        "    val_errors = []\n",
        "\n",
        "    for epoch in range(epochs):\n",
        "      #forward prop\n",
        "      cache, error = forward_propagation(Input, y_expected, noOfLayers, params, Activations, Error)\n",
        "\n",
        "      #validation forward prop\n",
        "      val_cache, val_error = forward_propagation(Input_validation, y_expected_validation, noOfLayers, params, Activations, Error)\n",
        "\n",
        "      #back prop\n",
        "      reverse_cache = backward_propagation(params, cache, y_expected, Activations, noOfLayers, learning_rate)\n",
        "\n",
        "      #update\n",
        "      params = update_parameters(params, reverse_cache, noOfLayers)\n",
        "\n",
        "      errors.append(error)\n",
        "      val_errors.append(val_error)\n",
        "      if epoch % 100 == 1:\n",
        "        print(\"The training error after\", epoch, \"Iterations is\", error)\n",
        "        print(\"The validation error after\", epoch, \"Iterations is\", val_error)\n",
        "\n",
        "      #conversion to array\n",
        "\n",
        "    err = np.array(errors)\n",
        "    val_err = np.array(val_errors)\n",
        "    return params, err, val_err\n"
      ]
    },
    {
      "cell_type": "markdown",
      "metadata": {
        "id": "X_v8OhX331M9"
      },
      "source": [
        "Testing the Network"
      ]
    },
    {
      "cell_type": "code",
      "execution_count": 198,
      "metadata": {
        "id": "0x0pkzVH331b"
      },
      "outputs": [],
      "source": [
        "def testing(Input_test, y_expected_test, params, Activations, noOfLayers = 1, Error='MSE'):\n",
        "  cache, error = forward_propagation(Input_test, y_expected_test, noOfLayers, params, Activations, Error)\n",
        "\n",
        "  y_out = cache['A'+str(noOfLayers+1)]\n",
        "\n",
        "  return y_out, error"
      ]
    },
    {
      "cell_type": "markdown",
      "metadata": {
        "id": "nyD1xkXk4oyi"
      },
      "source": [
        "Plotting the training error"
      ]
    },
    {
      "cell_type": "code",
      "execution_count": 199,
      "metadata": {
        "colab": {
          "base_uri": "https://localhost:8080/",
          "height": 1000
        },
        "id": "MVxU65_W4tmX",
        "outputId": "6e47dce6-ca2e-47ee-9979-885f8c77055a"
      },
      "outputs": [
        {
          "name": "stdout",
          "output_type": "stream",
          "text": [
            "The training error after 1 Iterations is [101.75117046]\n",
            "The validation error after 1 Iterations is [100.67580389]\n",
            "The training error after 101 Iterations is [7.01196873]\n",
            "The validation error after 101 Iterations is [6.82062824]\n",
            "The training error after 201 Iterations is [5.53381662]\n",
            "The validation error after 201 Iterations is [5.37195111]\n",
            "The training error after 301 Iterations is [4.88140186]\n",
            "The validation error after 301 Iterations is [4.7547933]\n",
            "The training error after 401 Iterations is [4.58083414]\n",
            "The validation error after 401 Iterations is [4.47404932]\n",
            "The training error after 501 Iterations is [4.38505402]\n",
            "The validation error after 501 Iterations is [4.29716128]\n",
            "The training error after 601 Iterations is [4.2477216]\n",
            "The validation error after 601 Iterations is [4.1687882]\n",
            "The training error after 701 Iterations is [4.1445937]\n",
            "The validation error after 701 Iterations is [4.07460242]\n",
            "The training error after 801 Iterations is [4.05905422]\n",
            "The validation error after 801 Iterations is [4.00014629]\n",
            "The training error after 901 Iterations is [3.99319306]\n",
            "The validation error after 901 Iterations is [3.93875468]\n",
            "The training error after 1001 Iterations is [3.9418731]\n",
            "The validation error after 1001 Iterations is [3.8923879]\n",
            "The training error after 1101 Iterations is [3.89966052]\n",
            "The validation error after 1101 Iterations is [3.85323054]\n",
            "The training error after 1201 Iterations is [3.8634009]\n",
            "The validation error after 1201 Iterations is [3.81853617]\n",
            "The training error after 1301 Iterations is [3.83169843]\n",
            "The validation error after 1301 Iterations is [3.78920731]\n",
            "The training error after 1401 Iterations is [3.80249971]\n",
            "The validation error after 1401 Iterations is [3.76203897]\n",
            "The training error after 1501 Iterations is [3.77523202]\n",
            "The validation error after 1501 Iterations is [3.73676424]\n",
            "The training error after 1601 Iterations is [3.75054276]\n",
            "The validation error after 1601 Iterations is [3.71491901]\n",
            "The training error after 1701 Iterations is [3.72795137]\n",
            "The validation error after 1701 Iterations is [3.69443887]\n",
            "The training error after 1801 Iterations is [3.70699082]\n",
            "The validation error after 1801 Iterations is [3.67628926]\n",
            "The training error after 1901 Iterations is [3.68733432]\n",
            "The validation error after 1901 Iterations is [3.65956379]\n"
          ]
        },
        {
          "data": {
            "image/png": "[encoded data removed]",
            "text/plain": [
              "<Figure size 432x288 with 1 Axes>"
            ]
          },
          "metadata": {
            "needs_background": "light"
          },
          "output_type": "display_data"
        },
        {
          "data": {
            "image/png": "[encoded data removed]",
            "text/plain": [
              "<Figure size 432x288 with 1 Axes>"
            ]
          },
          "metadata": {
            "needs_background": "light"
          },
          "output_type": "display_data"
        }
      ],
      "source": [
        "noOfLayers = 3\n",
        "Activations = ['ReLU'] * (noOfLayers+1)\n",
        "\n",
        "params, errors, val_errors = training(X_train, Y_train, X_val, Y_val, Activations, noOfLayers)\n",
        "\n",
        "\n",
        "# print(errors[-1])\n",
        "plt.plot(errors)\n",
        "plt.show()\n",
        "plt.plot(val_errors)\n",
        "plt.show()"
      ]
    },
    {
      "cell_type": "markdown",
      "metadata": {
        "id": "AUA8PgbE66lH"
      },
      "source": [
        "Testing the Network"
      ]
    },
    {
      "cell_type": "code",
      "execution_count": 200,
      "metadata": {
        "colab": {
          "base_uri": "https://localhost:8080/"
        },
        "id": "rLAPV3z47Bt-",
        "outputId": "adaaedec-dbec-46f5-af46-6f21790d559d"
      },
      "outputs": [
        {
          "name": "stdout",
          "output_type": "stream",
          "text": [
            "[[10.56346071 19.43438512  2.32249372 ...  6.26059837 22.89478489\n",
            "   5.66102375]]\n",
            "[3.7479247]\n"
          ]
        }
      ],
      "source": [
        "y_out, error = testing(X_test, Y_test, params, Activations, noOfLayers)\n",
        "\n",
        "print(y_out)\n",
        "print(error)"
      ]
    }
  ],
  "metadata": {
    "colab": {
      "provenance": []
    },
    "kernelspec": {
      "display_name": "Python 3",
      "name": "python3"
    },
    "language_info": {
      "name": "python"
    }
  },
  "nbformat": 4,
  "nbformat_minor": 0
}
